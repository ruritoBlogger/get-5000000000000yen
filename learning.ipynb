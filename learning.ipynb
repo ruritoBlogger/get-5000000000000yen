{
 "cells": [
  {
   "cell_type": "code",
   "execution_count": 17,
   "metadata": {
    "collapsed": true
   },
   "outputs": [],
   "source": [
    "import chainer\n",
    "from chainer import training, iterators, optimizers, serializers, Chain\n",
    "import chainer.functions as F\n",
    "import chainer.links as L\n",
    " \n",
    "from chainer.training import extensions\n",
    "from chainer.datasets import tuple_dataset\n",
    "from chainer import optimizers, Chain, dataset, datasets, iterators\n",
    "import numpy as np"
   ]
  },
  {
   "cell_type": "code",
   "execution_count": 18,
   "metadata": {
    "collapsed": false
   },
   "outputs": [],
   "source": [
    "def data_read( file_name, key):\n",
    "    teachers = np.array([] )\n",
    "    answers =  np.array([] )\n",
    "\n",
    "    f = open( file_name, mode = \"r\" )\n",
    "    f_string = f.readlines()\n",
    "    data = np.array([] )\n",
    "    print(\"test\")\n",
    "    \n",
    "    for i in range( 0, len( f_string ) ):\n",
    "        #引数を用いて正解ラベルを振り分ける\n",
    "        tmp_data = np.zeros(10)\n",
    "        for j in f_string[i].replace( \"\\n\", \"\" ):\n",
    "                tmp_data[int(j)] += 1\n",
    "               \n",
    "        if(False):\n",
    "            if( i < key-1):\n",
    "                data = np.append( data, tmp_data )\n",
    "            else:\n",
    "                teachers = np.append( teachers, data )\n",
    "                answers = np.append( answers, tmp_data )\n",
    "                data = np.delete( data, 0 )\n",
    "                data = np.append( data, tmp_data )\n",
    "        \n",
    "            if( (i + 2)%100 == 0 ):\n",
    "                print(i/len(f_string))\n",
    "        else:\n",
    "            if( i != 0 and i%key == 0 ):\n",
    "                teachers = np.append( teachers, data)\n",
    "                data = np.array([] )\n",
    "                for j in f_string[i].replace( \"\\n\", \"\" ):\n",
    "                    tmp_data[int(j)] += 1\n",
    "                answers = np.append( answers, tmp_data )\n",
    "            else:\n",
    "                for j in f_string[i].replace( \"\\n\", \"\" ):\n",
    "                    tmp_data[int(j)] += 1\n",
    "                    data = np.append( data, tmp_data )\n",
    "    \n",
    "    f.close()\n",
    "    \n",
    "    teachers = teachers.astype( np.float32 )\n",
    "    answers = answers.astype( np.float32 )\n",
    "    \n",
    "    teachers = np.reshape( teachers, ( int( len( teachers ) / 10 / key ), key, 10 ) )\n",
    "    \n",
    "    answers = np.reshape( answers, ( int( len( answers ) / 10 ) , 10 ) )\n",
    "    return teachers, answers\n"
   ]
  },
  {
   "cell_type": "code",
   "execution_count": 19,
   "metadata": {
    "collapsed": false
   },
   "outputs": [
    {
     "name": "stdout",
     "output_type": "stream",
     "text": [
      "test\n"
     ]
    }
   ],
   "source": [
    "teachers, answers = data_read( 'numbers.txt', 3)\n",
    "GPU = -1"
   ]
  },
  {
   "cell_type": "code",
   "execution_count": 20,
   "metadata": {
    "collapsed": false
   },
   "outputs": [
    {
     "name": "stdout",
     "output_type": "stream",
     "text": [
      "3333\n",
      "1666\n",
      "[[1. 0. 2. 0. 0. 1. 0. 0. 0. 0.]\n",
      " [2. 0. 2. 0. 0. 1. 0. 0. 0. 0.]\n",
      " [2. 0. 2. 0. 0. 2. 0. 0. 0. 0.]]\n",
      "[0. 0. 2. 0. 0. 0. 2. 0. 2. 0.]\n"
     ]
    }
   ],
   "source": [
    "print(len(teachers))\n",
    "print(len(answers))\n",
    "print(teachers[0])\n",
    "print(answers[0])"
   ]
  },
  {
   "cell_type": "code",
   "execution_count": 24,
   "metadata": {
    "collapsed": false
   },
   "outputs": [],
   "source": [
    "#ニューラルネットワークの構築。\n",
    "class RNN(Chain):\n",
    "    \n",
    "    def __init__(self, n_hidden, n_output):\n",
    "        if(GPU == -1):\n",
    "            super(RNN, self).__init__(\n",
    "                l1=L.LSTM(None, n_hidden),\n",
    "                l2=L.Linear(None, n_output)\n",
    "            )\n",
    "        else:\n",
    "            super(RNN, self).__init__(\n",
    "                l1=L.LSTM(None, n_hidden).to_gpu(),\n",
    "                l2=L.Linear(None, n_output).to_gpu()\n",
    "            )   \n",
    "        \n",
    "    def reset_state(self):\n",
    "        self.l1.reset_state()\n",
    "        \n",
    "    def __call__(self, x, t):\n",
    "        y = self.predict(x)\n",
    "        loss = F.mean_squared_error(y, t)\n",
    "        data = y.data[:]\n",
    "        accuracy = self.accuracy(data, t)\n",
    "        chainer.reporter.report({'accuracy':accuracy},self)\n",
    "        chainer.reporter.report({'loss':loss},self)\n",
    "        return loss\n",
    "    \n",
    "    def accuracy(self, y, t):\n",
    "        correct = 0\n",
    "        for j in range( 0, len(y) ):\n",
    "            if y[j].size:\n",
    "                for i in range( 0, 3 ):\n",
    "                    if( t[j][y[j].argmax()] ):\n",
    "                        correct += 1\n",
    "                    y[j][y[j].argmax()]= np.amin(y[j])\n",
    "        return correct / (len(y) * 3)\n",
    "        \n",
    "    \n",
    "    def predict(self, x):\n",
    "        if train:\n",
    "            h1 = F.dropout(self.l1(x),ratio = 0.5)\n",
    "        else:\n",
    "            h1 = self.l1(x)\n",
    "        return self.l2(h1)"
   ]
  },
  {
   "cell_type": "code",
   "execution_count": 25,
   "metadata": {
    "collapsed": false
   },
   "outputs": [],
   "source": [
    "#Updaterを拡張する\n",
    "from chainer import Variable, reporter\n",
    "\n",
    "class LSTMUpdater(training.StandardUpdater):\n",
    "    def __init__(self, data_iter, optimizer, device=None):\n",
    "        super(LSTMUpdater,self).__init__(data_iter, optimizer, device=None)\n",
    "        self.device = device\n",
    "        \n",
    "    def update_core(self):\n",
    "        data_iter = self.get_iterator(\"main\")\n",
    "        optimizer = self.get_optimizer(\"main\")\n",
    "        \n",
    "        batch = data_iter.__next__()\n",
    "        x_batch, t_batch = chainer.dataset.concat_examples(batch, self.device)\n",
    "        \n",
    "        optimizer.target.reset_state()           \n",
    "        optimizer.target.cleargrads()\n",
    "        #loss = optimizer.target(Variable(x_batch), Variable(t_batch))\n",
    "        loss = optimizer.target(x_batch, t_batch)\n",
    "        loss.backward()\n",
    "        loss.unchain_backward()                  \n",
    "        optimizer.update() \n"
   ]
  },
  {
   "cell_type": "code",
   "execution_count": 26,
   "metadata": {
    "collapsed": false
   },
   "outputs": [
    {
     "name": "stdout",
     "output_type": "stream",
     "text": [
      "epoch       main/loss   validation/main/loss  main/accuracy  validation/main/accuracy  elapsed_time\n",
      "\u001b[J1           1.41168     1.31211               0.27358        0.268519                  0.407127      \n"
     ]
    }
   ],
   "source": [
    "#　教師データのtupleを作成する\n",
    "data = list(zip(teachers, answers))\n",
    "N = len(data)\n",
    "n_batchsize = 30\n",
    "n_epoch = 1\n",
    "\n",
    "#モデルを使う準備。オブジェクトを生成\n",
    "n_hidden = 10\n",
    "n_output = 10\n",
    "model = RNN(n_hidden, n_output)\n",
    "optimizer = optimizers.Adam()\n",
    "optimizer.setup(model)\n",
    "\n",
    "#学習用データと検証用データに分ける\n",
    "train, test = chainer.datasets.split_dataset_random(data, int(N * 0.8))\n",
    "train_iter = chainer.iterators.SerialIterator(train, n_batchsize, shuffle=False)\n",
    "test_iter = chainer.iterators.SerialIterator(test, n_batchsize, repeat=False, shuffle=False)\n",
    "updater = LSTMUpdater(train_iter, optimizer, device=GPU)\n",
    "trainer = training.Trainer(updater, (n_epoch, \"epoch\"), out=\"result\")\n",
    "trainer.extend(extensions.Evaluator(test_iter, model, device=GPU))\n",
    "trainer.extend(extensions.LogReport())\n",
    "trainer.extend(extensions.PrintReport( [\"epoch\", \"main/loss\", \"validation/main/loss\", \"main/accuracy\", \"validation/main/accuracy\", \"elapsed_time\"])) # エポック、学習損失、テスト損失、学習正解率、テスト正解率、経過時間\n",
    "trainer.extend(extensions.PlotReport(['main/loss', 'val/main/loss'], x_key='epoch', file_name='loss.png'))\n",
    "trainer.extend(extensions.PlotReport(['main/accuracy', 'val/main/accuracy'], x_key='epoch', file_name='accuracy.png'))\n",
    "trainer.run()"
   ]
  },
  {
   "cell_type": "code",
   "execution_count": 27,
   "metadata": {
    "collapsed": false,
    "scrolled": true
   },
   "outputs": [
    {
     "name": "stdout",
     "output_type": "stream",
     "text": [
      "5\n"
     ]
    },
    {
     "data": {
      "text/plain": [
       "0.8333333333333334"
      ]
     },
     "execution_count": 27,
     "metadata": {},
     "output_type": "execute_result"
    }
   ],
   "source": [
    "def accuracy(y, t):\n",
    "        correct = 0\n",
    "        for j in range( 0, len(y) ):\n",
    "            if y[j].size:\n",
    "                for i in range( 0, 3 ):\n",
    "                    if( t[j][y[j].argmax()] ):\n",
    "                        correct += 1\n",
    "                    y[j][y[j].argmax()]= np.amin(y[j])\n",
    "        print(correct)\n",
    "        return correct / (len(y) * 3)\n",
    "\n",
    "y = np.array([[ 2.32572779e-02, 1.50612950e-01, -7.73513615e-02,\n",
    "            1.24777101e-01, 1.66107967e-01, 4.45912518e-02,\n",
    "            3.39158834e-03, -3.49103138e-02, 6.63672294e-03,\n",
    "           -9.04915929e-02],\n",
    "            [ 2.32572779e-02, 1.50612950e-01, -7.73513615e-02,\n",
    "            1.24777101e-01, 1.66107967e-01, 4.45912518e-02,\n",
    "            3.39158834e-03, -3.49103138e-02, 6.63672294e-03,\n",
    "           -9.04915929e-02]])\n",
    "t = np.array([[0,1,0,1,1,0,0,0,0,0],[0,1,0,1,1,0,0,0,0,0]])\n",
    "accuracy(y,t)"
   ]
  },
  {
   "cell_type": "code",
   "execution_count": null,
   "metadata": {
    "collapsed": true
   },
   "outputs": [],
   "source": []
  }
 ],
 "metadata": {
  "kernelspec": {
   "display_name": "Python 3",
   "language": "python",
   "name": "python3"
  },
  "language_info": {
   "codemirror_mode": {
    "name": "ipython",
    "version": 3
   },
   "file_extension": ".py",
   "mimetype": "text/x-python",
   "name": "python",
   "nbconvert_exporter": "python",
   "pygments_lexer": "ipython3",
   "version": "3.6.0"
  }
 },
 "nbformat": 4,
 "nbformat_minor": 2
}
