{
 "cells": [
  {
   "cell_type": "code",
   "execution_count": 81,
   "metadata": {
    "collapsed": true
   },
   "outputs": [],
   "source": [
    "import chainer\n",
    "from chainer import training, iterators, optimizers, serializers, Chain\n",
    "import chainer.functions as F\n",
    "import chainer.links as L\n",
    " \n",
    "from chainer.training import extensions\n",
    "from chainer.datasets import tuple_dataset\n",
    "from chainer import optimizers, Chain, dataset, datasets, iterators\n",
    "import numpy as np"
   ]
  },
  {
   "cell_type": "code",
   "execution_count": 82,
   "metadata": {
    "collapsed": true
   },
   "outputs": [],
   "source": [
    "def data_read( file_name, key):\n",
    "    teachers = np.array([] )\n",
    "    answers =  np.array([] )\n",
    "\n",
    "    f = open( file_name, mode = \"r\" )\n",
    "    f_string = f.readlines()\n",
    "    data = np.array([] )\n",
    "    print(\"test\")\n",
    "    \n",
    "    for i in range( 0, len( f_string ) ):\n",
    "        #引数を用いて正解ラベルを振り分ける\n",
    "        tmp_data = np.zeros(10)\n",
    "        for j in f_string[i].replace( \"\\n\", \"\" ):\n",
    "                tmp_data[int(j)] += 1\n",
    "                \n",
    "        if( i < key-1):\n",
    "                data = np.append( data, tmp_data )\n",
    "        else:\n",
    "            teachers = np.append( teachers, data )\n",
    "            answers = np.append( answers, tmp_data )\n",
    "            data = np.delete( data, 0 )\n",
    "            data = np.append( data, tmp_data )\n",
    "        \n",
    "        if( (i + 2)%100 == 0 ):\n",
    "            print(i/len(f_string))\n",
    "        #if( i != 0 and i%key == 0 ):\n",
    "            #teachers = np.append( teachers, data)\n",
    "            #data = np.array([] )\n",
    "            #for j in f_string[i].replace( \"\\n\", \"\" ):\n",
    "                #tmp_data[int(j)] += 1\n",
    "            #answers = np.append( answers, tmp_data )\n",
    "        #else:\n",
    "            #for j in f_string[i].replace( \"\\n\", \"\" ):\n",
    "                #tmp_data[int(j)] += 1\n",
    "                #data = np.append( data, tmp_data )\n",
    "    \n",
    "    f.close()\n",
    "    \n",
    "    teachers = teachers.astype( np.float32 )\n",
    "    answers = answers.astype( np.float32 )\n",
    "    \n",
    "    teachers = np.reshape( teachers, ( int( len( teachers ) / 10 / key ), key, 10 ) )\n",
    "    \n",
    "    answers = np.reshape( answers, ( int( len( answers ) / 10 ) , 10 ) )\n",
    "    return teachers, answers\n"
   ]
  },
  {
   "cell_type": "code",
   "execution_count": null,
   "metadata": {
    "collapsed": false
   },
   "outputs": [
    {
     "name": "stdout",
     "output_type": "stream",
     "text": [
      "test\n",
      "0.017632241813602016\n",
      "test\n",
      "0.035624325296869375\n",
      "test\n",
      "0.05361640878013674\n",
      "test\n",
      "0.0716084922634041\n",
      "test\n",
      "0.08960057574667146\n",
      "test\n",
      "0.10759265922993883\n",
      "test\n",
      "0.1255847427132062\n",
      "test\n",
      "0.14357682619647355\n",
      "test\n",
      "0.1615689096797409\n",
      "test\n",
      "0.17956099316300828\n",
      "test\n",
      "0.19755307664627564\n",
      "test\n",
      "0.215545160129543\n",
      "test\n",
      "0.23353724361281036\n",
      "test\n",
      "0.2515293270960777\n",
      "test\n",
      "0.2695214105793451\n",
      "test\n",
      "0.28751349406261245\n",
      "test\n",
      "0.3055055775458798\n",
      "test\n",
      "0.3234976610291472\n",
      "test\n",
      "0.34148974451241454\n",
      "test\n",
      "0.3594818279956819\n",
      "test\n",
      "0.37747391147894926\n",
      "test\n",
      "0.3954659949622166\n",
      "test\n",
      "0.413458078445484\n",
      "test\n",
      "0.43145016192875135\n",
      "test\n",
      "0.4494422454120187\n",
      "test\n",
      "0.4674343288952861\n",
      "test\n",
      "0.48542641237855344\n",
      "test\n",
      "0.5034184958618207\n",
      "test\n",
      "0.5214105793450882\n",
      "test\n",
      "0.5394026628283555\n",
      "test\n",
      "0.5573947463116229\n",
      "test\n",
      "0.5753868297948902\n",
      "test\n",
      "0.5933789132781576\n",
      "test\n",
      "0.6113709967614249\n",
      "test\n",
      "0.6293630802446923\n",
      "test\n",
      "0.6473551637279596\n",
      "test\n",
      "0.6653472472112271\n",
      "test\n",
      "0.6833393306944944\n",
      "test\n",
      "0.7013314141777618\n",
      "test\n",
      "0.7193234976610291\n",
      "test\n",
      "0.7373155811442965\n",
      "test\n",
      "0.7553076646275638\n",
      "test\n",
      "0.7732997481108312\n",
      "test\n",
      "0.7912918315940985\n",
      "test\n",
      "0.809283915077366\n",
      "test\n",
      "0.8272759985606333\n",
      "test\n",
      "0.8452680820439007\n",
      "test\n",
      "0.863260165527168\n",
      "test\n",
      "0.8812522490104354\n",
      "test\n",
      "0.8992443324937027\n",
      "test\n",
      "0.9172364159769701\n",
      "test\n",
      "0.9352284994602375\n",
      "test\n",
      "0.9532205829435049\n",
      "test\n",
      "0.9712126664267722\n",
      "test\n"
     ]
    }
   ],
   "source": [
    "teachers, answers = data_read( 'numbers.txt', 5)"
   ]
  },
  {
   "cell_type": "code",
   "execution_count": 1,
   "metadata": {
    "collapsed": false
   },
   "outputs": [
    {
     "ename": "NameError",
     "evalue": "name 'teachers' is not defined",
     "output_type": "error",
     "traceback": [
      "\u001b[0;31m---------------------------------------------------------------------------\u001b[0m",
      "\u001b[0;31mNameError\u001b[0m                                 Traceback (most recent call last)",
      "\u001b[0;32m<ipython-input-1-13bae95dd4a2>\u001b[0m in \u001b[0;36m<module>\u001b[0;34m()\u001b[0m\n\u001b[0;32m----> 1\u001b[0;31m \u001b[0mprint\u001b[0m\u001b[0;34m(\u001b[0m\u001b[0mlen\u001b[0m\u001b[0;34m(\u001b[0m\u001b[0mteachers\u001b[0m\u001b[0;34m)\u001b[0m\u001b[0;34m)\u001b[0m\u001b[0;34m\u001b[0m\u001b[0m\n\u001b[0m\u001b[1;32m      2\u001b[0m \u001b[0mprint\u001b[0m\u001b[0;34m(\u001b[0m\u001b[0mlen\u001b[0m\u001b[0;34m(\u001b[0m\u001b[0manswers\u001b[0m\u001b[0;34m)\u001b[0m\u001b[0;34m)\u001b[0m\u001b[0;34m\u001b[0m\u001b[0m\n\u001b[1;32m      3\u001b[0m \u001b[0mprint\u001b[0m\u001b[0;34m(\u001b[0m\u001b[0mteachers\u001b[0m\u001b[0;34m[\u001b[0m\u001b[0;36m0\u001b[0m\u001b[0;34m]\u001b[0m\u001b[0;34m)\u001b[0m\u001b[0;34m\u001b[0m\u001b[0m\n\u001b[1;32m      4\u001b[0m \u001b[0mprint\u001b[0m\u001b[0;34m(\u001b[0m\u001b[0manswers\u001b[0m\u001b[0;34m[\u001b[0m\u001b[0;36m0\u001b[0m\u001b[0;34m]\u001b[0m\u001b[0;34m)\u001b[0m\u001b[0;34m\u001b[0m\u001b[0m\n",
      "\u001b[0;31mNameError\u001b[0m: name 'teachers' is not defined"
     ]
    }
   ],
   "source": [
    "print(len(teachers))\n",
    "print(len(answers))\n",
    "print(teachers[0])\n",
    "print(answers[0])"
   ]
  },
  {
   "cell_type": "code",
   "execution_count": 68,
   "metadata": {
    "collapsed": false
   },
   "outputs": [],
   "source": [
    "#ニューラルネットワークの構築。\n",
    "class RNN(Chain):\n",
    "    \n",
    "    def __init__(self, n_hidden, n_output):\n",
    "        super(RNN, self).__init__(\n",
    "            l1=L.LSTM(None, n_hidden),\n",
    "            l2=L.Linear(None, n_output),\n",
    "        )\n",
    "        \n",
    "    def reset_state(self):\n",
    "        self.l1.reset_state()\n",
    "        \n",
    "    def __call__(self, x, t):\n",
    "        y = self.predict(x)\n",
    "        loss = F.mean_squared_error(y, t)\n",
    "        data = y.data[:]\n",
    "        accuracy = self.accuracy(data, t)\n",
    "        chainer.reporter.report({'accuracy':accuracy},self)\n",
    "        chainer.reporter.report({'loss':loss},self)\n",
    "        return loss\n",
    "    \n",
    "    def accuracy(y, t):\n",
    "        correct = 0\n",
    "        for j in range( 0, len(y) ):\n",
    "            if y[j].size:\n",
    "                for i in range( 0, 3 ):\n",
    "                    if( t[j][y[j].argmax()] ):\n",
    "                        correct += 1\n",
    "                    y[j][y[j].argmax()]= np.amin(y[j])\n",
    "        return correct / (len(y) * 3)\n",
    "        \n",
    "    \n",
    "    def predict(self, x):\n",
    "        if train:\n",
    "            h1 = F.dropout(self.l1(x),ratio = 0.5)\n",
    "        else:\n",
    "            h1 = self.l1(x)\n",
    "        return self.l2(h1)"
   ]
  },
  {
   "cell_type": "code",
   "execution_count": 69,
   "metadata": {
    "collapsed": false
   },
   "outputs": [],
   "source": [
    "#Updaterを拡張する\n",
    "from chainer import Variable, reporter\n",
    "\n",
    "class LSTMUpdater(training.StandardUpdater):\n",
    "    def __init__(self, data_iter, optimizer, device=None):\n",
    "        super(LSTMUpdater,self).__init__(data_iter, optimizer, device=None)\n",
    "        self.device = device\n",
    "        \n",
    "    def update_core(self):\n",
    "        data_iter = self.get_iterator(\"main\")\n",
    "        optimizer = self.get_optimizer(\"main\")\n",
    "        \n",
    "        batch = data_iter.__next__()\n",
    "        x_batch, t_batch = chainer.dataset.concat_examples(batch, self.device)\n",
    "        \n",
    "        optimizer.target.reset_state()           \n",
    "        optimizer.target.cleargrads()\n",
    "        #loss = optimizer.target(Variable(x_batch), Variable(t_batch))\n",
    "        loss = optimizer.target(x_batch, t_batch)\n",
    "        loss.backward()\n",
    "        loss.unchain_backward()                  \n",
    "        optimizer.update() \n"
   ]
  },
  {
   "cell_type": "code",
   "execution_count": 70,
   "metadata": {
    "collapsed": false
   },
   "outputs": [
    {
     "name": "stderr",
     "output_type": "stream",
     "text": [
      "Exception in main training loop: accuracy() takes 2 positional arguments but 3 were given\n",
      "Traceback (most recent call last):\n",
      "  File \"/home/rurito/.pyenv/versions/anaconda3-4.3.1/lib/python3.6/site-packages/chainer/training/trainer.py\", line 316, in run\n",
      "    update()\n",
      "  File \"/home/rurito/.pyenv/versions/anaconda3-4.3.1/lib/python3.6/site-packages/chainer/training/updaters/standard_updater.py\", line 175, in update\n",
      "    self.update_core()\n",
      "  File \"<ipython-input-69-d1b759a50fe5>\", line 19, in update_core\n",
      "    loss = optimizer.target(x_batch, t_batch)\n",
      "  File \"<ipython-input-68-75f5dd9d3e59>\", line 17, in __call__\n",
      "    accuracy = self.accuracy(data, t)\n",
      "Will finalize trainer extensions and updater before reraising the exception.\n"
     ]
    },
    {
     "ename": "TypeError",
     "evalue": "accuracy() takes 2 positional arguments but 3 were given",
     "output_type": "error",
     "traceback": [
      "\u001b[0;31m---------------------------------------------------------------------------\u001b[0m",
      "\u001b[0;31mTypeError\u001b[0m                                 Traceback (most recent call last)",
      "\u001b[0;32m<ipython-input-70-96ab168d6a36>\u001b[0m in \u001b[0;36m<module>\u001b[0;34m()\u001b[0m\n\u001b[1;32m     23\u001b[0m \u001b[0mtrainer\u001b[0m\u001b[0;34m.\u001b[0m\u001b[0mextend\u001b[0m\u001b[0;34m(\u001b[0m\u001b[0mextensions\u001b[0m\u001b[0;34m.\u001b[0m\u001b[0mPlotReport\u001b[0m\u001b[0;34m(\u001b[0m\u001b[0;34m[\u001b[0m\u001b[0;34m'main/loss'\u001b[0m\u001b[0;34m,\u001b[0m \u001b[0;34m'val/main/loss'\u001b[0m\u001b[0;34m]\u001b[0m\u001b[0;34m,\u001b[0m \u001b[0mx_key\u001b[0m\u001b[0;34m=\u001b[0m\u001b[0;34m'epoch'\u001b[0m\u001b[0;34m,\u001b[0m \u001b[0mfile_name\u001b[0m\u001b[0;34m=\u001b[0m\u001b[0;34m'loss.png'\u001b[0m\u001b[0;34m)\u001b[0m\u001b[0;34m)\u001b[0m\u001b[0;34m\u001b[0m\u001b[0m\n\u001b[1;32m     24\u001b[0m \u001b[0mtrainer\u001b[0m\u001b[0;34m.\u001b[0m\u001b[0mextend\u001b[0m\u001b[0;34m(\u001b[0m\u001b[0mextensions\u001b[0m\u001b[0;34m.\u001b[0m\u001b[0mPlotReport\u001b[0m\u001b[0;34m(\u001b[0m\u001b[0;34m[\u001b[0m\u001b[0;34m'main/accuracy'\u001b[0m\u001b[0;34m,\u001b[0m \u001b[0;34m'val/main/accuracy'\u001b[0m\u001b[0;34m]\u001b[0m\u001b[0;34m,\u001b[0m \u001b[0mx_key\u001b[0m\u001b[0;34m=\u001b[0m\u001b[0;34m'epoch'\u001b[0m\u001b[0;34m,\u001b[0m \u001b[0mfile_name\u001b[0m\u001b[0;34m=\u001b[0m\u001b[0;34m'accuracy.png'\u001b[0m\u001b[0;34m)\u001b[0m\u001b[0;34m)\u001b[0m\u001b[0;34m\u001b[0m\u001b[0m\n\u001b[0;32m---> 25\u001b[0;31m \u001b[0mtrainer\u001b[0m\u001b[0;34m.\u001b[0m\u001b[0mrun\u001b[0m\u001b[0;34m(\u001b[0m\u001b[0;34m)\u001b[0m\u001b[0;34m\u001b[0m\u001b[0m\n\u001b[0m",
      "\u001b[0;32m/home/rurito/.pyenv/versions/anaconda3-4.3.1/lib/python3.6/site-packages/chainer/training/trainer.py\u001b[0m in \u001b[0;36mrun\u001b[0;34m(self, show_loop_exception_msg)\u001b[0m\n\u001b[1;32m    347\u001b[0m                         \u001b[0mf\u001b[0m\u001b[0;34m.\u001b[0m\u001b[0mwrite\u001b[0m\u001b[0;34m(\u001b[0m\u001b[0;34m'Traceback (most recent call last):\\n'\u001b[0m\u001b[0;34m)\u001b[0m\u001b[0;34m\u001b[0m\u001b[0m\n\u001b[1;32m    348\u001b[0m                         \u001b[0mtraceback\u001b[0m\u001b[0;34m.\u001b[0m\u001b[0mprint_tb\u001b[0m\u001b[0;34m(\u001b[0m\u001b[0msys\u001b[0m\u001b[0;34m.\u001b[0m\u001b[0mexc_info\u001b[0m\u001b[0;34m(\u001b[0m\u001b[0;34m)\u001b[0m\u001b[0;34m[\u001b[0m\u001b[0;36m2\u001b[0m\u001b[0;34m]\u001b[0m\u001b[0;34m)\u001b[0m\u001b[0;34m\u001b[0m\u001b[0m\n\u001b[0;32m--> 349\u001b[0;31m             \u001b[0msix\u001b[0m\u001b[0;34m.\u001b[0m\u001b[0mreraise\u001b[0m\u001b[0;34m(\u001b[0m\u001b[0;34m*\u001b[0m\u001b[0mexc_info\u001b[0m\u001b[0;34m)\u001b[0m\u001b[0;34m\u001b[0m\u001b[0m\n\u001b[0m\u001b[1;32m    350\u001b[0m         \u001b[0;32mfinally\u001b[0m\u001b[0;34m:\u001b[0m\u001b[0;34m\u001b[0m\u001b[0m\n\u001b[1;32m    351\u001b[0m             \u001b[0;32mfor\u001b[0m \u001b[0m_\u001b[0m\u001b[0;34m,\u001b[0m \u001b[0mentry\u001b[0m \u001b[0;32min\u001b[0m \u001b[0mextensions\u001b[0m\u001b[0;34m:\u001b[0m\u001b[0;34m\u001b[0m\u001b[0m\n",
      "\u001b[0;32m/home/rurito/.pyenv/versions/anaconda3-4.3.1/lib/python3.6/site-packages/six.py\u001b[0m in \u001b[0;36mreraise\u001b[0;34m(tp, value, tb)\u001b[0m\n\u001b[1;32m    684\u001b[0m         \u001b[0;32mif\u001b[0m \u001b[0mvalue\u001b[0m\u001b[0;34m.\u001b[0m\u001b[0m__traceback__\u001b[0m \u001b[0;32mis\u001b[0m \u001b[0;32mnot\u001b[0m \u001b[0mtb\u001b[0m\u001b[0;34m:\u001b[0m\u001b[0;34m\u001b[0m\u001b[0m\n\u001b[1;32m    685\u001b[0m             \u001b[0;32mraise\u001b[0m \u001b[0mvalue\u001b[0m\u001b[0;34m.\u001b[0m\u001b[0mwith_traceback\u001b[0m\u001b[0;34m(\u001b[0m\u001b[0mtb\u001b[0m\u001b[0;34m)\u001b[0m\u001b[0;34m\u001b[0m\u001b[0m\n\u001b[0;32m--> 686\u001b[0;31m         \u001b[0;32mraise\u001b[0m \u001b[0mvalue\u001b[0m\u001b[0;34m\u001b[0m\u001b[0m\n\u001b[0m\u001b[1;32m    687\u001b[0m \u001b[0;34m\u001b[0m\u001b[0m\n\u001b[1;32m    688\u001b[0m \u001b[0;32melse\u001b[0m\u001b[0;34m:\u001b[0m\u001b[0;34m\u001b[0m\u001b[0m\n",
      "\u001b[0;32m/home/rurito/.pyenv/versions/anaconda3-4.3.1/lib/python3.6/site-packages/chainer/training/trainer.py\u001b[0m in \u001b[0;36mrun\u001b[0;34m(self, show_loop_exception_msg)\u001b[0m\n\u001b[1;32m    314\u001b[0m                 \u001b[0mself\u001b[0m\u001b[0;34m.\u001b[0m\u001b[0mobservation\u001b[0m \u001b[0;34m=\u001b[0m \u001b[0;34m{\u001b[0m\u001b[0;34m}\u001b[0m\u001b[0;34m\u001b[0m\u001b[0m\n\u001b[1;32m    315\u001b[0m                 \u001b[0;32mwith\u001b[0m \u001b[0mreporter\u001b[0m\u001b[0;34m.\u001b[0m\u001b[0mscope\u001b[0m\u001b[0;34m(\u001b[0m\u001b[0mself\u001b[0m\u001b[0;34m.\u001b[0m\u001b[0mobservation\u001b[0m\u001b[0;34m)\u001b[0m\u001b[0;34m:\u001b[0m\u001b[0;34m\u001b[0m\u001b[0m\n\u001b[0;32m--> 316\u001b[0;31m                     \u001b[0mupdate\u001b[0m\u001b[0;34m(\u001b[0m\u001b[0;34m)\u001b[0m\u001b[0;34m\u001b[0m\u001b[0m\n\u001b[0m\u001b[1;32m    317\u001b[0m                     \u001b[0;32mfor\u001b[0m \u001b[0mname\u001b[0m\u001b[0;34m,\u001b[0m \u001b[0mentry\u001b[0m \u001b[0;32min\u001b[0m \u001b[0mextensions\u001b[0m\u001b[0;34m:\u001b[0m\u001b[0;34m\u001b[0m\u001b[0m\n\u001b[1;32m    318\u001b[0m                         \u001b[0;32mif\u001b[0m \u001b[0mentry\u001b[0m\u001b[0;34m.\u001b[0m\u001b[0mtrigger\u001b[0m\u001b[0;34m(\u001b[0m\u001b[0mself\u001b[0m\u001b[0;34m)\u001b[0m\u001b[0;34m:\u001b[0m\u001b[0;34m\u001b[0m\u001b[0m\n",
      "\u001b[0;32m/home/rurito/.pyenv/versions/anaconda3-4.3.1/lib/python3.6/site-packages/chainer/training/updaters/standard_updater.py\u001b[0m in \u001b[0;36mupdate\u001b[0;34m(self)\u001b[0m\n\u001b[1;32m    173\u001b[0m \u001b[0;34m\u001b[0m\u001b[0m\n\u001b[1;32m    174\u001b[0m         \"\"\"\n\u001b[0;32m--> 175\u001b[0;31m         \u001b[0mself\u001b[0m\u001b[0;34m.\u001b[0m\u001b[0mupdate_core\u001b[0m\u001b[0;34m(\u001b[0m\u001b[0;34m)\u001b[0m\u001b[0;34m\u001b[0m\u001b[0m\n\u001b[0m\u001b[1;32m    176\u001b[0m         \u001b[0mself\u001b[0m\u001b[0;34m.\u001b[0m\u001b[0miteration\u001b[0m \u001b[0;34m+=\u001b[0m \u001b[0;36m1\u001b[0m\u001b[0;34m\u001b[0m\u001b[0m\n\u001b[1;32m    177\u001b[0m \u001b[0;34m\u001b[0m\u001b[0m\n",
      "\u001b[0;32m<ipython-input-69-d1b759a50fe5>\u001b[0m in \u001b[0;36mupdate_core\u001b[0;34m(self)\u001b[0m\n\u001b[1;32m     17\u001b[0m         \u001b[0moptimizer\u001b[0m\u001b[0;34m.\u001b[0m\u001b[0mtarget\u001b[0m\u001b[0;34m.\u001b[0m\u001b[0mcleargrads\u001b[0m\u001b[0;34m(\u001b[0m\u001b[0;34m)\u001b[0m\u001b[0;34m\u001b[0m\u001b[0m\n\u001b[1;32m     18\u001b[0m         \u001b[0;31m#loss = optimizer.target(Variable(x_batch), Variable(t_batch))\u001b[0m\u001b[0;34m\u001b[0m\u001b[0;34m\u001b[0m\u001b[0m\n\u001b[0;32m---> 19\u001b[0;31m         \u001b[0mloss\u001b[0m \u001b[0;34m=\u001b[0m \u001b[0moptimizer\u001b[0m\u001b[0;34m.\u001b[0m\u001b[0mtarget\u001b[0m\u001b[0;34m(\u001b[0m\u001b[0mx_batch\u001b[0m\u001b[0;34m,\u001b[0m \u001b[0mt_batch\u001b[0m\u001b[0;34m)\u001b[0m\u001b[0;34m\u001b[0m\u001b[0m\n\u001b[0m\u001b[1;32m     20\u001b[0m         \u001b[0mloss\u001b[0m\u001b[0;34m.\u001b[0m\u001b[0mbackward\u001b[0m\u001b[0;34m(\u001b[0m\u001b[0;34m)\u001b[0m\u001b[0;34m\u001b[0m\u001b[0m\n\u001b[1;32m     21\u001b[0m         \u001b[0mloss\u001b[0m\u001b[0;34m.\u001b[0m\u001b[0munchain_backward\u001b[0m\u001b[0;34m(\u001b[0m\u001b[0;34m)\u001b[0m\u001b[0;34m\u001b[0m\u001b[0m\n",
      "\u001b[0;32m<ipython-input-68-75f5dd9d3e59>\u001b[0m in \u001b[0;36m__call__\u001b[0;34m(self, x, t)\u001b[0m\n\u001b[1;32m     15\u001b[0m         \u001b[0mloss\u001b[0m \u001b[0;34m=\u001b[0m \u001b[0mF\u001b[0m\u001b[0;34m.\u001b[0m\u001b[0mmean_squared_error\u001b[0m\u001b[0;34m(\u001b[0m\u001b[0my\u001b[0m\u001b[0;34m,\u001b[0m \u001b[0mt\u001b[0m\u001b[0;34m)\u001b[0m\u001b[0;34m\u001b[0m\u001b[0m\n\u001b[1;32m     16\u001b[0m         \u001b[0mdata\u001b[0m \u001b[0;34m=\u001b[0m \u001b[0my\u001b[0m\u001b[0;34m.\u001b[0m\u001b[0mdata\u001b[0m\u001b[0;34m[\u001b[0m\u001b[0;34m:\u001b[0m\u001b[0;34m]\u001b[0m\u001b[0;34m\u001b[0m\u001b[0m\n\u001b[0;32m---> 17\u001b[0;31m         \u001b[0maccuracy\u001b[0m \u001b[0;34m=\u001b[0m \u001b[0mself\u001b[0m\u001b[0;34m.\u001b[0m\u001b[0maccuracy\u001b[0m\u001b[0;34m(\u001b[0m\u001b[0mdata\u001b[0m\u001b[0;34m,\u001b[0m \u001b[0mt\u001b[0m\u001b[0;34m)\u001b[0m\u001b[0;34m\u001b[0m\u001b[0m\n\u001b[0m\u001b[1;32m     18\u001b[0m         \u001b[0mchainer\u001b[0m\u001b[0;34m.\u001b[0m\u001b[0mreporter\u001b[0m\u001b[0;34m.\u001b[0m\u001b[0mreport\u001b[0m\u001b[0;34m(\u001b[0m\u001b[0;34m{\u001b[0m\u001b[0;34m'accuracy'\u001b[0m\u001b[0;34m:\u001b[0m\u001b[0maccuracy\u001b[0m\u001b[0;34m}\u001b[0m\u001b[0;34m,\u001b[0m\u001b[0mself\u001b[0m\u001b[0;34m)\u001b[0m\u001b[0;34m\u001b[0m\u001b[0m\n\u001b[1;32m     19\u001b[0m         \u001b[0mchainer\u001b[0m\u001b[0;34m.\u001b[0m\u001b[0mreporter\u001b[0m\u001b[0;34m.\u001b[0m\u001b[0mreport\u001b[0m\u001b[0;34m(\u001b[0m\u001b[0;34m{\u001b[0m\u001b[0;34m'loss'\u001b[0m\u001b[0;34m:\u001b[0m\u001b[0mloss\u001b[0m\u001b[0;34m}\u001b[0m\u001b[0;34m,\u001b[0m\u001b[0mself\u001b[0m\u001b[0;34m)\u001b[0m\u001b[0;34m\u001b[0m\u001b[0m\n",
      "\u001b[0;31mTypeError\u001b[0m: accuracy() takes 2 positional arguments but 3 were given"
     ]
    }
   ],
   "source": [
    "#　教師データのtupleを作成する\n",
    "data = list(zip(teachers, answers))\n",
    "N = len(data)\n",
    "n_batchsize = 30\n",
    "n_epoch = 1\n",
    "\n",
    "#モデルを使う準備。オブジェクトを生成\n",
    "n_hidden = 10\n",
    "n_output = 10\n",
    "model = RNN(n_hidden, n_output)\n",
    "optimizer = optimizers.Adam()\n",
    "optimizer.setup(model)\n",
    "\n",
    "#学習用データと検証用データに分ける\n",
    "train, test = chainer.datasets.split_dataset_random(data, int(N * 0.8))\n",
    "train_iter = chainer.iterators.SerialIterator(train, n_batchsize, shuffle=False)\n",
    "test_iter = chainer.iterators.SerialIterator(test, n_batchsize, repeat=False, shuffle=False)\n",
    "updater = LSTMUpdater(train_iter, optimizer, device=-1)\n",
    "trainer = training.Trainer(updater, (n_epoch, \"epoch\"), out=\"result\")\n",
    "trainer.extend(extensions.Evaluator(test_iter, model, device=-1))\n",
    "trainer.extend(extensions.LogReport())\n",
    "trainer.extend(extensions.PrintReport( [\"epoch\", \"main/loss\", \"validation/main/loss\", \"main/accuracy\", \"validation/main/accuracy\", \"elapsed_time\"])) # エポック、学習損失、テスト損失、学習正解率、テスト正解率、経過時間\n",
    "trainer.extend(extensions.PlotReport(['main/loss', 'val/main/loss'], x_key='epoch', file_name='loss.png'))\n",
    "trainer.extend(extensions.PlotReport(['main/accuracy', 'val/main/accuracy'], x_key='epoch', file_name='accuracy.png'))\n",
    "trainer.run()"
   ]
  },
  {
   "cell_type": "code",
   "execution_count": 27,
   "metadata": {
    "collapsed": false,
    "scrolled": true
   },
   "outputs": [
    {
     "name": "stdout",
     "output_type": "stream",
     "text": [
      "5\n"
     ]
    },
    {
     "data": {
      "text/plain": [
       "0.8333333333333334"
      ]
     },
     "execution_count": 27,
     "metadata": {},
     "output_type": "execute_result"
    }
   ],
   "source": [
    "def accuracy(y, t):\n",
    "        correct = 0\n",
    "        for j in range( 0, len(y) ):\n",
    "            if y[j].size:\n",
    "                for i in range( 0, 3 ):\n",
    "                    if( t[j][y[j].argmax()] ):\n",
    "                        correct += 1\n",
    "                    y[j][y[j].argmax()]= np.amin(y[j])\n",
    "        print(correct)\n",
    "        return correct / (len(y) * 3)\n",
    "\n",
    "y = np.array([[ 2.32572779e-02, 1.50612950e-01, -7.73513615e-02,\n",
    "            1.24777101e-01, 1.66107967e-01, 4.45912518e-02,\n",
    "            3.39158834e-03, -3.49103138e-02, 6.63672294e-03,\n",
    "           -9.04915929e-02],\n",
    "            [ 2.32572779e-02, 1.50612950e-01, -7.73513615e-02,\n",
    "            1.24777101e-01, 1.66107967e-01, 4.45912518e-02,\n",
    "            3.39158834e-03, -3.49103138e-02, 6.63672294e-03,\n",
    "           -9.04915929e-02]])\n",
    "t = np.array([[0,1,0,1,1,0,0,0,0,0],[0,1,0,1,1,0,0,0,0,0]])\n",
    "accuracy(y,t)"
   ]
  },
  {
   "cell_type": "code",
   "execution_count": null,
   "metadata": {
    "collapsed": true
   },
   "outputs": [],
   "source": []
  }
 ],
 "metadata": {
  "kernelspec": {
   "display_name": "Python 3",
   "language": "python",
   "name": "python3"
  },
  "language_info": {
   "codemirror_mode": {
    "name": "ipython",
    "version": 3
   },
   "file_extension": ".py",
   "mimetype": "text/x-python",
   "name": "python",
   "nbconvert_exporter": "python",
   "pygments_lexer": "ipython3",
   "version": "3.6.0"
  }
 },
 "nbformat": 4,
 "nbformat_minor": 2
}
