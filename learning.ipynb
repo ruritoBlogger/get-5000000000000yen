{
 "cells": [
  {
   "cell_type": "code",
   "execution_count": 1,
   "metadata": {
    "collapsed": true
   },
   "outputs": [],
   "source": [
    "import chainer\n",
    "from chainer import training, iterators, optimizers, serializers, Chain\n",
    "import chainer.functions as F\n",
    "import chainer.links as L\n",
    " \n",
    "from chainer.training import extensions\n",
    "from chainer.datasets import tuple_dataset\n",
    "from chainer import optimizers, Chain, dataset, datasets, iterators\n",
    "import numpy as np"
   ]
  },
  {
   "cell_type": "code",
   "execution_count": 42,
   "metadata": {
    "collapsed": true
   },
   "outputs": [],
   "source": [
    "def data_read( file_name, key, is_one_hot ):\n",
    "    teachers = np.array([] )\n",
    "    answers =  np.array([] )\n",
    "\n",
    "    f = open( file_name, mode = \"r\" )\n",
    "    f_string = f.readlines()\n",
    "    data = np.array([] )\n",
    "    \n",
    "    for i in range( 0, len( f_string ) ):\n",
    "        #引数を用いて正解ラベルを振り分ける\n",
    "        if( i != 0 and i%key == 0 ):\n",
    "            teachers = np.append( teachers, data)\n",
    "            data = np.array([] )\n",
    "            # 正解ラベルをone hotで表現する場合\n",
    "            if( is_one_hot ):\n",
    "                tmp_data = np.zeros(10)\n",
    "                for j in f_string[i].replace( \"\\n\", \"\" ):\n",
    "                    tmp_data[int(j)] += 1\n",
    "                answers = np.append( answers, tmp_data )\n",
    "            else:\n",
    "                answers = np.append( answers, float(f_string[i].replace( \"\\n\", \"\" )))\n",
    "        else:\n",
    "            data = np.append( data, float(f_string[i].replace( \"\\n\", \"\" )))\n",
    "    \n",
    "    f.close()\n",
    "    \n",
    "    teachers = teachers.astype( np.float32 )\n",
    "    answers = answers.astype( np.float32 )\n",
    "    \n",
    "    teachers = np.reshape( teachers, ( int( len( teachers ) / key ), key ) )\n",
    "    answers = np.reshape( answers, ( int( len( answers ) / 10 ) , 10 ) )\n",
    "\n",
    "    return teachers, answers\n"
   ]
  },
  {
   "cell_type": "code",
   "execution_count": 43,
   "metadata": {
    "collapsed": false
   },
   "outputs": [],
   "source": [
    "teachers, answers = data_read( 'numbers.txt', 3,  )"
   ]
  },
  {
   "cell_type": "code",
   "execution_count": 46,
   "metadata": {
    "collapsed": false
   },
   "outputs": [
    {
     "name": "stdout",
     "output_type": "stream",
     "text": [
      "[[1. 1. 0. 0. 0. 1. 0. 0. 0. 0.]\n",
      " [1. 0. 0. 0. 0. 0. 0. 1. 1. 0.]\n",
      " [1. 0. 0. 1. 1. 0. 0. 0. 0. 0.]]\n"
     ]
    }
   ],
   "source": [
    "print(answers[0:3])"
   ]
  },
  {
   "cell_type": "code",
   "execution_count": null,
   "metadata": {
    "collapsed": true
   },
   "outputs": [],
   "source": []
  }
 ],
 "metadata": {
  "kernelspec": {
   "display_name": "Python 3",
   "language": "python",
   "name": "python3"
  },
  "language_info": {
   "codemirror_mode": {
    "name": "ipython",
    "version": 3
   },
   "file_extension": ".py",
   "mimetype": "text/x-python",
   "name": "python",
   "nbconvert_exporter": "python",
   "pygments_lexer": "ipython3",
   "version": "3.6.0"
  }
 },
 "nbformat": 4,
 "nbformat_minor": 2
}
